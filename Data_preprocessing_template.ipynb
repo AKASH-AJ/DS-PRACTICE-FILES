{
  "nbformat": 4,
  "nbformat_minor": 0,
  "metadata": {
    "colab": {
      "name": "Data preprocessing template.ipynb",
      "provenance": [],
      "collapsed_sections": [],
      "authorship_tag": "ABX9TyM6OeUiaYb+mfJBznjZO1Kj",
      "include_colab_link": true
    },
    "kernelspec": {
      "name": "python3",
      "display_name": "Python 3"
    },
    "language_info": {
      "name": "python"
    }
  },
  "cells": [
    {
      "cell_type": "markdown",
      "metadata": {
        "id": "view-in-github",
        "colab_type": "text"
      },
      "source": [
        "<a href=\"https://colab.research.google.com/github/AKASH-AJ/DS-PRACTICE-FILES/blob/main/Data_preprocessing_template.ipynb\" target=\"_parent\"><img src=\"https://colab.research.google.com/assets/colab-badge.svg\" alt=\"Open In Colab\"/></a>"
      ]
    },
    {
      "cell_type": "code",
      "execution_count": null,
      "metadata": {
        "id": "0T9PTWNif32x"
      },
      "outputs": [],
      "source": [
        "# Importing library\n",
        "import pandas as pd\n",
        "import numpy as np\n",
        "import matplotlib.pyplot as plt"
      ]
    },
    {
      "cell_type": "code",
      "source": [
        "#importing dataset\n",
        "data = pd.read_csv('/content/Data.csv')"
      ],
      "metadata": {
        "id": "IhHDE4OLgXwR"
      },
      "execution_count": null,
      "outputs": []
    },
    {
      "cell_type": "code",
      "source": [
        "#get independent varibles       (iloc= index location)\n",
        "x= data.iloc[:,:-1].values"
      ],
      "metadata": {
        "id": "d4kiMS97g5Xy"
      },
      "execution_count": null,
      "outputs": []
    },
    {
      "cell_type": "code",
      "source": [
        "y= data.iloc[:,3].values  #to get the values of dependent variables "
      ],
      "metadata": {
        "id": "K9RKx0dWhite"
      },
      "execution_count": null,
      "outputs": []
    },
    {
      "cell_type": "code",
      "source": [
        "#if package is missing use pip install\n",
        "# !pip install sklearn\n",
        "\n",
        "#taking care of missing data\n",
        "from sklearn.impute import SimpleImputer"
      ],
      "metadata": {
        "id": "RHbhI4EBhqjq"
      },
      "execution_count": null,
      "outputs": []
    },
    {
      "cell_type": "code",
      "source": [
        "#replacing the missing values in x by the mean of the specific columns\n",
        "# can replace the mean only to numeric values\n",
        "imputer = SimpleImputer(missing_values= np.nan, strategy='mean')\n",
        "imputer = imputer.fit(x[:,1:3])\n",
        "x[:,1:3]=imputer.transform(x[:,1:3]) "
      ],
      "metadata": {
        "id": "P-vIPlDfqTeb"
      },
      "execution_count": null,
      "outputs": []
    },
    {
      "cell_type": "code",
      "source": [
        "# encoding categorical data\n",
        "from sklearn.compose import ColumnTransformer\n",
        "from sklearn.preprocessing import OneHotEncoder\n",
        " # encoding the first column and passing the remaing as it is\n",
        "ct = ColumnTransformer(transformers=[('encoder',OneHotEncoder(),[0])], remainder ='passthrough')  \n",
        "x= np.array(ct.fit_transform(x))"
      ],
      "metadata": {
        "id": "QilcpeWsK3Gp"
      },
      "execution_count": null,
      "outputs": []
    },
    {
      "cell_type": "code",
      "source": [
        "# encoding categorical data for dependent variable\n",
        "# we can use label encoder since we have only two values (y/n)\n",
        "from sklearn.preprocessing import LabelEncoder\n",
        "labelEncoder_y = LabelEncoder()\n",
        "y = labelEncoder_y.fit_transform(y)"
      ],
      "metadata": {
        "id": "lRLlGpRuQqGE"
      },
      "execution_count": null,
      "outputs": []
    },
    {
      "cell_type": "code",
      "source": [
        "# Splitting the dataset into training and test set\n",
        "from sklearn.model_selection import train_test_split\n",
        "x_train, x_test, y_train, y_test = train_test_split(x,y, test_size= 0.2, random_state=0)"
      ],
      "metadata": {
        "id": "HiaMnn87Sf0s"
      },
      "execution_count": null,
      "outputs": []
    },
    {
      "cell_type": "code",
      "source": [
        "#feature scalling\n",
        "# standardizing the dataset\n",
        "from sklearn.preprocessing import StandardScaler\n",
        "sc_x = StandardScaler()\n",
        "x_train = sc_x.fit_transform(x_train)\n",
        "x_test = sc_x.transform(x_test)"
      ],
      "metadata": {
        "id": "b1oUdCLvWVp9"
      },
      "execution_count": null,
      "outputs": []
    },
    {
      "cell_type": "code",
      "source": [
        ""
      ],
      "metadata": {
        "id": "KW7MV8ADYxXh"
      },
      "execution_count": null,
      "outputs": []
    }
  ]
}